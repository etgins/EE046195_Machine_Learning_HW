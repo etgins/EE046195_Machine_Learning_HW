{
  "nbformat": 4,
  "nbformat_minor": 0,
  "metadata": {
    "kernalspec": {
      "display_name": "Python 3",
      "language": "python",
      "name": "python3"
    },
    "colab": {
      "name": "Copy of assignment_0_ex.ipynb",
      "provenance": [],
      "collapsed_sections": [
        "HAL1pkoLWGCg",
        "nBgC9p_iWGC3",
        "uvWj2T5OWGDG",
        "BreZKd2IWGDK",
        "n2KalMJkWGDX",
        "g8-G-EEMWGDh",
        "x1zAE3cmWGDm",
        "OPNkMUGcWGD7",
        "TqiG_zAcWGEB",
        "xD_Zm3u3WGEI",
        "BrP7CLLrWGEK",
        "KXeemp-eWGEX",
        "itMj9vHrWGEa"
      ],
      "toc_visible": true,
      "include_colab_link": true
    },
    "kernelspec": {
      "name": "python3",
      "display_name": "Python 3"
    }
  },
  "cells": [
    {
      "cell_type": "markdown",
      "metadata": {
        "id": "view-in-github",
        "colab_type": "text"
      },
      "source": [
        "<a href=\"https://colab.research.google.com/github/etgins/Machine-Learning-HW/blob/main/Copy_of_assignment_0_ex.ipynb\" target=\"_parent\"><img src=\"https://colab.research.google.com/assets/colab-badge.svg\" alt=\"Open In Colab\"/></a>"
      ]
    },
    {
      "cell_type": "markdown",
      "metadata": {
        "id": "nCUFxueHWGCa"
      },
      "source": [
        "# Homework 0 - Introduction to Python and Google Colabratory"
      ]
    },
    {
      "cell_type": "markdown",
      "metadata": {
        "id": "odxRqTqMWGCc"
      },
      "source": [
        "The hands-on assignments (תרגילים רטובים) in this course will be given in python using a free online platform provided by google called Colab. The purpose of this assignment is to go over the basic of the Python language and to let you practice using the Colab platform.\n",
        "\n",
        "You do not need to submit this homework assignment, but it is mandatory to go over it.\n",
        "\n",
        "Enjoy 🙂"
      ]
    },
    {
      "cell_type": "markdown",
      "metadata": {
        "id": "ghTpxqmlWGCe"
      },
      "source": [
        "## About Python\n",
        "\n",
        "Python is a programing language which has gain massive popularity in recent years both for building large systems and for quick prototyping and doing research. Here are a few motivational points for why we decided to use Python, and why should you learn it?\n",
        "\n",
        "- It is an extremely powerful programing language and yet very simple to learn and to get started with. ([See what XKCD has to say about it](https://xkcd.com/353/))\n",
        "- It is currently one of the most popular programming languages. ([It is the 3rd most popular language, after C and Java](https://www.tiobe.com/tiobe-index/))\n",
        "- Almost all new frameworks in the field of machine learning are python oriented: PyTorch, TensorFlow, Keras, etc.\n",
        "- It has a ridiculously rich set of packages for almost any task. From basic mathematical tools([basic numeric](http://www.numpy.org/), [advance numerics](https://www.scipy.org/scipylib/index.html), [symbolic math](https://www.sympy.org) [data handling](https://pandas.pydata.org/), [visualizing](https://mode.com/blog/python-data-visualization-libraries), etc.), through a range of advanced frameworks for [deep learning](https://www.kdnuggets.com/2017/02/python-deep-learning-frameworks-overview.html), [distributed computing](https://wiki.python.org/moin/ParallelProcessing), [web servers](https://www.djangoproject.com/), etc.\n",
        "- It's open-source (=> free++) with a huge community behind it.\n",
        "\n",
        "### Learning Python\n",
        "\n",
        "Learning the basic concepts of the language is relatively easy and is enough in order to get started. In this homework assignment we will try to briefly go through those basics, in order to get you up and running. However, this assignment does not come near of covering all the aspects of the language, and it is expected (and perfectly fine), that if this is your first time using Python it will take you a while (and maybe some frustration) to get the hang of it. This assignment does assume that you do have some minimal experience in programing.\n",
        "\n",
        "You will probably need every now and then to relay on the web for help to solve bugs and to understand parts of the code. There is a large number of great resources available on-line including the official documentation and sited dedicated for learning Python. These resources usually explain thing in a more detailed way that this introduction which. We have listed a few additional resources at the end of this assignment. You are encouraged to check them out whenever you get stuck.\n"
      ]
    },
    {
      "cell_type": "markdown",
      "metadata": {
        "id": "HAL1pkoLWGCg"
      },
      "source": [
        "## Colab\n",
        "\n",
        "The hands-on part (תרגילים רטובים) of the homework assignment in this course will be given in the form of Colaboratory notebooks such as this one. Colaboratory is a free service offered by Google, which is based on the [Jupyter project](https://jupyter.org/) which allows you to run such notebooks on any computer. The Colab platforms allows any one with a Google account to run Python code on Google's servers.\n",
        "\n",
        "#### Creating a Google account\n",
        "\n",
        "In order to save these notebooks you must be have Google account and by logged into it. In the rare case that you don't already have an account, you can create one [here](https://accounts.google.com/SignUp).\n",
        "\n",
        "### The notbooks\n",
        "\n",
        "The notebooks used by Colab (and Jupyter in general) are simply a mixture of cells of rich text, such as the one you are reading, along with Python code cells, such as this one:"
      ]
    },
    {
      "cell_type": "code",
      "metadata": {
        "id": "WUG-a5kiWGCh",
        "colab": {
          "base_uri": "https://localhost:8080/"
        },
        "outputId": "e5b927f1-e99d-4211-95fc-7601b322f5f6"
      },
      "source": [
        "x = 3\n",
        "print('x is equal to', x)"
      ],
      "execution_count": null,
      "outputs": [
        {
          "output_type": "stream",
          "text": [
            "x is equal to 3\n"
          ],
          "name": "stdout"
        }
      ]
    },
    {
      "cell_type": "markdown",
      "metadata": {
        "id": "NW-HUx_QWGCn"
      },
      "source": [
        "### Running a cell\n",
        "\n",
        "To run a specific code cell, such as the one above, select the cell using the mouse or the up/down keys, and press **Shift+Enter**. \n",
        "\n",
        "Run the code cell above. You should see the output of this cell beneath it."
      ]
    },
    {
      "cell_type": "markdown",
      "metadata": {
        "id": "XkubfqP0WGCo"
      },
      "source": [
        "### Making your own copy of the notebook\n",
        "\n",
        "By following the [link](https://colab.research.google.com/github/technion046195/technion046195/blob/master/static/assignments/assignment_0_ex.ipynb)\n",
        "on the course's website, you have opened the public copy of this notebook. In this state you should see the following logo (Github's): ![](https://github.githubassets.com/favicons/favicon.svg) next to the file name at the top of the page. In the public copy you can make changes, but you won't be able to save them.\n",
        "\n",
        "In order to make your own copy of this notebook press the \"Copy to drive\" button at the top area of the this page.  The notebook's name (at the top) should change to \"**Copy of ###.ipynb**\" and the logo should change to Google's drive icon: ![](https://ssl.gstatic.com/images/branding/product/1x/drive_2020q4_32dp.png).\n",
        "\n",
        "#### Notebooks name and location\n",
        "\n",
        "By default, the new copy which you have just created is saved into your [Google drive](https://drive.google.com/drive) under a folder called **Colab Notebooks**. You can view this folder by selecting **Locate in Drive** from the **file** menu.\n",
        "\n",
        "**Recommended**: You can rename the notebook by clicking on the notebook's name at the top of page.\n",
        "\n",
        "\n",
        "\n",
        "Now we are ready to start editing 👍"
      ]
    },
    {
      "cell_type": "markdown",
      "metadata": {
        "id": "9YDs5P0GWGCp"
      },
      "source": [
        "### Saving and loading notebooks\n",
        "\n",
        "- To save a notebook press **Ctrl+S** (or select **save** from the **file** menu).\n",
        "- To load a saved notebook, open the **Colab Notebooks** folder in your [Google drive](https://drive.google.com/drive), and double click on the saved notebook. (If you did not rename it should appear as \"**Copy of ###.ipynb**\") Note that in Google Drive you can have more than 1 file with the same name in the same folder.\n",
        "\n",
        "✍️ Before you start, make sure that you can save and load this notebook. Start be replacing the text in the code cell below with our own ID numbers. Then save and load this notebook, and make sure that the IDs were indeed saved."
      ]
    },
    {
      "cell_type": "code",
      "metadata": {
        "id": "rSQ5tW5MWGCp",
        "colab": {
          "base_uri": "https://localhost:8080/"
        },
        "outputId": "b09d1661-4760-462c-8714-6676a9057cbc"
      },
      "source": [
        "## %%%%%%%%%%%%%%% Your code here - Begin %%%%%%%%%%%%%%%\n",
        "## Replace the test bellow with our own\n",
        "my_text = 'some other text'\n",
        "## %%%%%%%%%%%%%%% Your code here - End %%%%%%%%%%%%%%%%%\n",
        "\n",
        "print('You wrote:', my_text)"
      ],
      "execution_count": null,
      "outputs": [
        {
          "output_type": "stream",
          "text": [
            "You wrote: some other text\n"
          ],
          "name": "stdout"
        }
      ]
    },
    {
      "cell_type": "markdown",
      "metadata": {
        "id": "ajyGA7SoWGCu"
      },
      "source": [
        "### Expending all cells\n",
        "\n",
        "When you open a new notebook some sections might be hidden (collapsed), showing only the title of the section with a \"↳ # cells hidden\" note beneath it. Before you start, make show you expand all the sections. You can do so by pressing **Ctrl+[** or by clicking on all the \"↳ # cells hidden\" lines."
      ]
    },
    {
      "cell_type": "markdown",
      "metadata": {
        "id": "u_PHyM1DWGCv"
      },
      "source": [
        "### ✍️ Your assignments\n",
        "\n",
        "In these assignments, you will have to follow the instruction in the notebooks and fill in the missing code blocks according to the instructions. The cells containing the instructions will be marked with ✍️. The line of code which you will be expected to fill in will be surrounded by the two following comments:\n",
        "\n",
        "\n",
        "``` python\n",
        "## %%%%%%%%%%%%%%% Your code here - Begin %%%%%%%%%%%%%%%\n",
        "\n",
        "## %%%%%%%%%%%%%%% Your code here - End %%%%%%%%%%%%%%%%%\n",
        "```\n",
        "\n",
        "For example: fill in the following code block to assign the value $x+10$ to the variable $y$ (replace the ellipsis, \"...\", bellow with your code):"
      ]
    },
    {
      "cell_type": "code",
      "metadata": {
        "id": "5eJN1IKUWGCv",
        "colab": {
          "base_uri": "https://localhost:8080/"
        },
        "outputId": "91dc93d8-e26a-48bc-e28f-65cc995a4407"
      },
      "source": [
        "x = 3\n",
        "## %%%%%%%%%%%%%%% Your code here - Begin %%%%%%%%%%%%%%%\n",
        "## assign x + 10 to y:\n",
        "y = x + 10\n",
        "## %%%%%%%%%%%%%%% Your code here - End %%%%%%%%%%%%%%%%%\n",
        "\n",
        "print('y is equal to:', y)"
      ],
      "execution_count": null,
      "outputs": [
        {
          "output_type": "stream",
          "text": [
            "y is equal to: 13\n"
          ],
          "name": "stdout"
        }
      ]
    },
    {
      "cell_type": "markdown",
      "metadata": {
        "id": "LZEBLHJdWGCy"
      },
      "source": [
        "### Running order\n",
        "\n",
        "The notebook engine lets you run the code cells in any order you prefer, but to make everything work as it was designed to, you need to make sure you run the code cell in the correct order (the order in which they appear in the notebook). If you want to start over and reset the Python's state (all code cells which were previously ran) press **Ctrl+M I** (**Ctrl+M** followed by **I**), or select **Restart runtime...** from the **Runtime** menu.\n",
        "\n",
        "Restart the runtime and rerun all 3 code cells above this line."
      ]
    },
    {
      "cell_type": "markdown",
      "metadata": {
        "id": "OYwuM5G3WGCy"
      },
      "source": [
        "### The last line in a code cell\n",
        "\n",
        "For convenience, if the last line of a code cell returns some value, it will be presented in cell's output bellow the code. For example, run the following cell:"
      ]
    },
    {
      "cell_type": "code",
      "metadata": {
        "id": "19_0Ffl6WGCy",
        "colab": {
          "base_uri": "https://localhost:8080/"
        },
        "outputId": "705ee8f2-8f01-4c3c-8bd7-48634a0fa97f"
      },
      "source": [
        "## The output of this code cell would be y to the power of 2\n",
        "x = 3.14\n",
        "print('This is a ordinary print line')\n",
        "x ** 2  # The result of this line will appear in the output as well"
      ],
      "execution_count": null,
      "outputs": [
        {
          "output_type": "stream",
          "text": [
            "This is a ordinary print line\n"
          ],
          "name": "stdout"
        },
        {
          "output_type": "execute_result",
          "data": {
            "text/plain": [
              "9.8596"
            ]
          },
          "metadata": {
            "tags": []
          },
          "execution_count": 24
        }
      ]
    },
    {
      "cell_type": "markdown",
      "metadata": {
        "id": "BxgvSRDTWGC1"
      },
      "source": [
        "\n",
        "### A Comment About Python Versions\n",
        "\n",
        "3 major versions of Python have been released so far. The latest (and most popular) version today is Python 3. These notebooks use it by default so you don't have to worry about it.\n",
        "\n",
        "Do keep in mind, however, that there are still a lot of places which still use Python 2. When looking at on-line resources keep in mind that there are some minor syntax changes between the two versions.\n"
      ]
    },
    {
      "cell_type": "markdown",
      "metadata": {
        "id": "W0fPpq3HWGC2"
      },
      "source": [
        "## Python Basics"
      ]
    },
    {
      "cell_type": "markdown",
      "metadata": {
        "id": "nBgC9p_iWGC3"
      },
      "source": [
        "### The *print()* function\n",
        "\n",
        "The *print()* function simply prints the value of it's argument. The function will transform any argument into a string.\n",
        "\n",
        "The function can receive multiple arguments. In this case the function will print the values of all of the arguments separated by a single space.\n",
        "\n",
        "(We will use here the special character \"\\n\" (new line) to insert and empty line between the outputs)"
      ]
    },
    {
      "cell_type": "code",
      "metadata": {
        "id": "5KHBqEDAWGC4",
        "colab": {
          "base_uri": "https://localhost:8080/"
        },
        "outputId": "298c5830-27a1-4a69-bf3a-77e4631d2dd0"
      },
      "source": [
        "## When given a string, well ... it will print that string:\n",
        "print('1) This is a string\\n')\n",
        "\n",
        "## When given multiple inputs it will print each one of then seperated by a single space.\n",
        "print('2)', '\"Me first\"', '\"I will be second\"', '\"Why do I always have to be last?\"\\n') \n",
        "\n",
        "## The print function can also recive number as input.\n",
        "print('3) If we add the number', 2, 'to the number', 3, 'we will get', 23, '(or maybe not, I was never very good in calculus).\\n')\n",
        "\n",
        "## In python any object can be converted into a string, and therefore printed.\n",
        "print('4) This is a python list:', [1, 1, 2, 3, 5, 8, 13], '\\n')"
      ],
      "execution_count": null,
      "outputs": [
        {
          "output_type": "stream",
          "text": [
            "1) This is a string\n",
            "\n",
            "2) \"Me first\" \"I will be second\" \"Why do I always have to be last?\"\n",
            "\n",
            "3) If we add the number 2 to the number 3 we will get 23 (or maybe not, I was never very good in calculus).\n",
            "\n",
            "4) This is a python list: [1, 1, 2, 3, 5, 8, 13] \n",
            "\n"
          ],
          "name": "stdout"
        }
      ]
    },
    {
      "cell_type": "markdown",
      "metadata": {
        "id": "9IN5fe_bWGDA"
      },
      "source": [
        "✍️ Print the sentence 'The result of 83 x 29 is:' followed by the result. (Don't calculate the is yourself, write the equation as one of the print's arguments)"
      ]
    },
    {
      "cell_type": "code",
      "metadata": {
        "id": "SKNcFraaWGDB",
        "colab": {
          "base_uri": "https://localhost:8080/"
        },
        "outputId": "eb173182-a405-4aa9-aaa5-f812cec4eba4"
      },
      "source": [
        "## %%%%%%%%%%%%%%% Your code here - Begin %%%%%%%%%%%%%%%\n",
        "## print 'The result of 83 x 29 is:' followed by the result.\n",
        "print('the results of 83 x 29 is', 83 * 29)\n",
        "## %%%%%%%%%%%%%%% Your code here - End %%%%%%%%%%%%%%%%%"
      ],
      "execution_count": null,
      "outputs": [
        {
          "output_type": "stream",
          "text": [
            "the results of 83 x 29 is 2407\n"
          ],
          "name": "stdout"
        }
      ]
    },
    {
      "cell_type": "markdown",
      "metadata": {
        "id": "uvWj2T5OWGDG"
      },
      "source": [
        "\n",
        "### Comments\n",
        "\n",
        "Comments are created using the hash ('#') symbol. Anything after the # symbol will be ignored.\n",
        "\n",
        "In our course, for clarity, we will use a double hash ('##') for comments containing instructions or documentations (as oppose to lines of code which where commented out)"
      ]
    },
    {
      "cell_type": "code",
      "metadata": {
        "id": "951uA5DxWGDH",
        "colab": {
          "base_uri": "https://localhost:8080/"
        },
        "outputId": "ac714ab6-d77c-49ea-e850-d8cee3364aa5"
      },
      "source": [
        "# This is a comment\n",
        "## But in our course we will use this form for documentation.\n",
        "print('Always look on the bright side of life...') # Comments can be added at the end of the line"
      ],
      "execution_count": null,
      "outputs": [
        {
          "output_type": "stream",
          "text": [
            "Always look on the bright side of life...\n"
          ],
          "name": "stdout"
        }
      ]
    },
    {
      "cell_type": "markdown",
      "metadata": {
        "id": "BreZKd2IWGDK"
      },
      "source": [
        "### Variables\n",
        "\n",
        "Python is a dynamically typed language (like Javascript, Matlab and others). This means that any variable can be assigned with any type of value. Some of the build in types in Python are:\n",
        "- int: Integer\n",
        "- float: floating point\n",
        "- bool: Boolean (True/False)\n",
        "- str: string\n",
        "\n",
        "(For the more advance readers: Python is in fact an object oriented language, which means that **everything** in Python is a object. A variable is simply a reference to a object)"
      ]
    },
    {
      "cell_type": "code",
      "metadata": {
        "id": "8TXtR1dKWGDL",
        "colab": {
          "base_uri": "https://localhost:8080/"
        },
        "outputId": "b2b1f52e-746a-4541-97b0-cdbff2c77633"
      },
      "source": [
        "var1 = 5\n",
        "print(\"1) var1 = \", var1)\n",
        "print('The type of the variable \"var1\" is:', type(var1), '\\n')\n",
        "\n",
        "var2 = var1 * 3.5\n",
        "print(\"2) var2 = \", var2)\n",
        "print('The type of the variable \"var2\" is:', type(var2), '\\n')\n",
        "\n",
        "var3 = var2 + 2 +4j\n",
        "print(\"3) var3 = \", var3)\n",
        "print('The type of the variable \"var3\" is:', type(var3), '\\n')\n",
        "\n",
        "var4 = False\n",
        "print(\"4) var4 = \", var4)\n",
        "print('The type of the variable \"var4\" is:', type(var4), '\\n')\n",
        "\n",
        "var5 = 'supercalifragilisticexpialidocious'\n",
        "print(\"5) var5 = \", var5)\n",
        "print('The type of the variable \"var5\" is:', type(var5), '\\n')\n",
        "\n",
        "var6 = None  ## This is a special type which can be use to indicate none\n",
        "print(\"6) var6 = \", var6)\n",
        "print('The type of the variable \"var6\" is:', type(var6), '\\n')"
      ],
      "execution_count": null,
      "outputs": [
        {
          "output_type": "stream",
          "text": [
            "1) var1 =  5\n",
            "The type of the variable \"var1\" is: <class 'int'> \n",
            "\n",
            "2) var2 =  17.5\n",
            "The type of the variable \"var2\" is: <class 'float'> \n",
            "\n",
            "3) var3 =  (19.5+4j)\n",
            "The type of the variable \"var3\" is: <class 'complex'> \n",
            "\n",
            "4) var4 =  False\n",
            "The type of the variable \"var4\" is: <class 'bool'> \n",
            "\n",
            "5) var5 =  supercalifragilisticexpialidocious\n",
            "The type of the variable \"var5\" is: <class 'str'> \n",
            "\n",
            "6) var6 =  None\n",
            "The type of the variable \"var6\" is: <class 'NoneType'> \n",
            "\n"
          ],
          "name": "stdout"
        }
      ]
    },
    {
      "cell_type": "markdown",
      "metadata": {
        "id": "AW4POuVMWGDR"
      },
      "source": [
        "✍️ Calculate the square root of 2 and store in the variable \"irrational_var\" and then print it. Use ** as the power operator (equivalent to ^ in Matlab)"
      ]
    },
    {
      "cell_type": "code",
      "metadata": {
        "id": "PWpJNvU2WGDS",
        "colab": {
          "base_uri": "https://localhost:8080/"
        },
        "outputId": "a80a0234-2748-4543-f636-ef1ab07bcdfe"
      },
      "source": [
        "## %%%%%%%%%%%%%%% Your code here - Begin %%%%%%%%%%%%%%%\n",
        "irrational_var = 2 ** (0.5)\n",
        "## %%%%%%%%%%%%%%% Your code here - End %%%%%%%%%%%%%%%%%\n",
        "print('The suqare root of 2 is:', irrational_var)"
      ],
      "execution_count": null,
      "outputs": [
        {
          "output_type": "stream",
          "text": [
            "The suqare root of 2 is: 1.4142135623730951\n"
          ],
          "name": "stdout"
        }
      ]
    },
    {
      "cell_type": "markdown",
      "metadata": {
        "id": "8G1ywISDWGDU"
      },
      "source": [
        "✍️ \n",
        "- Define a boolean variable named *not_false* and assign the value *True* to it. (note that Python is case sensitive)\n",
        "- Add the value complex value of *2+1j* to it and save it to the variable *var7*\n",
        "- Print the type of *var5*"
      ]
    },
    {
      "cell_type": "code",
      "metadata": {
        "id": "jDYNOQB4WGDU",
        "colab": {
          "base_uri": "https://localhost:8080/"
        },
        "outputId": "db1920bf-8b2a-4c31-ea8c-bffefef8fc1b"
      },
      "source": [
        "## %%%%%%%%%%%%%%% Your code here - Begin %%%%%%%%%%%%%%%\n",
        "not_false = True\n",
        "var7 = 2 + 1j\n",
        "print(\"7) var7 = \", var7)\n",
        "print('The type of the variable \"var7\" is:', type(var7), '\\n')\n",
        "## %%%%%%%%%%%%%%% Your code here - End %%%%%%%%%%%%%%%%%"
      ],
      "execution_count": null,
      "outputs": [
        {
          "output_type": "stream",
          "text": [
            "7) var7 =  (2+1j)\n",
            "The type of the variable \"var7\" is: <class 'complex'> \n",
            "\n"
          ],
          "name": "stdout"
        }
      ]
    },
    {
      "cell_type": "markdown",
      "metadata": {
        "id": "n2KalMJkWGDX"
      },
      "source": [
        "### List and Tuples\n",
        "\n",
        "*Lists* and *tuples* are sequences of variables. The difference between the two is that after defining a tuple it's values can not be changed.\n",
        "\n",
        "List are defined using squared brackets \"[,]\" and tuples are defined using regular brackets \"(,)\" \n",
        "\n"
      ]
    },
    {
      "cell_type": "code",
      "metadata": {
        "id": "QOJWpxXKWGDZ",
        "colab": {
          "base_uri": "https://localhost:8080/"
        },
        "outputId": "33ce2838-886b-4111-d926-3f607ce52c85"
      },
      "source": [
        "tens = [0, 10, 20, 30, 40, 50, 60, 70, 80, 90, 100]\n",
        "hundreds = (0, 100, 200, 300, 400, 500, 600, 700, 800, 900, 1000)\n",
        "\n",
        "print('The type of the variable \"tens\" is:', type(tens))\n",
        "print('The type of the variable \"hundreds\" is:', type(hundreds))"
      ],
      "execution_count": null,
      "outputs": [
        {
          "output_type": "stream",
          "text": [
            "The type of the variable \"tens\" is: <class 'list'>\n",
            "The type of the variable \"hundreds\" is: <class 'tuple'>\n"
          ],
          "name": "stdout"
        }
      ]
    },
    {
      "cell_type": "markdown",
      "metadata": {
        "id": "LYUOKnCsWGDb"
      },
      "source": [
        "List and tuples can contain mixed types of variable \n",
        "\n",
        "(Note: compared to Matlab, list are similar to cells. Matlab's arrays are similar to NumPy arrays in Python, which we will discuss below)"
      ]
    },
    {
      "cell_type": "code",
      "metadata": {
        "id": "BAyVR509WGDc",
        "colab": {
          "base_uri": "https://localhost:8080/"
        },
        "outputId": "8db30e09-35df-42f1-afc8-1b274acc9466"
      },
      "source": [
        "mixed_list = ['pi', 3.14, 3, True, ['Another', 'list', 'inside', 'a', 'list']]\n",
        "print (mixed_list)"
      ],
      "execution_count": null,
      "outputs": [
        {
          "output_type": "stream",
          "text": [
            "['pi', 3.14, 3, True, ['Another', 'list', 'inside', 'a', 'list']]\n"
          ],
          "name": "stdout"
        }
      ]
    },
    {
      "cell_type": "markdown",
      "metadata": {
        "id": "g8-G-EEMWGDh"
      },
      "source": [
        "### Function for Sequences\n",
        "\n",
        "Python defines the following build in function for working with sequences. For example:"
      ]
    },
    {
      "cell_type": "code",
      "metadata": {
        "id": "njB4kO62WGDi",
        "colab": {
          "base_uri": "https://localhost:8080/"
        },
        "outputId": "4853c5da-1b54-4103-aa84-6326b9e07b49"
      },
      "source": [
        "## The \"len\" function returns the length of a sequences\n",
        "print('The length of tens is: ', len(tens), '\\n')\n",
        "\n",
        "## The \"sorted\" function returns a sorted version a sequences\n",
        "print('The sorted version of (3, 1, 4, 1, 5) is: ', sorted((3, 1, 4, 1, 5)), '\\n')"
      ],
      "execution_count": null,
      "outputs": [
        {
          "output_type": "stream",
          "text": [
            "The length of tens is:  11 \n",
            "\n",
            "The sorted version of (3, 1, 4, 1, 5) is:  [1, 1, 3, 4, 5] \n",
            "\n"
          ],
          "name": "stdout"
        }
      ]
    },
    {
      "cell_type": "markdown",
      "metadata": {
        "id": "x1zAE3cmWGDm"
      },
      "source": [
        "### Indexing Lists, Tuples and Strings\n",
        "\n",
        "Indexing (extracting values from a sequence by index) in done using square brackets.\n",
        "Indexing in Python can be done in a few ways:\n",
        "\n",
        "(**For Matlab users**: Python's indexing starts from 0 and not 1!! (like any other programing language (a part from Matlab))"
      ]
    },
    {
      "cell_type": "code",
      "metadata": {
        "id": "Zfsyx5F9WGDn",
        "colab": {
          "base_uri": "https://localhost:8080/"
        },
        "outputId": "0695e0c3-1bec-4667-fdb1-0ddf3b00a892"
      },
      "source": [
        "## Extract a single value at index: my_list[index]\n",
        "print('1) tens[5]=', tens[5], '\\n')\n",
        "\n",
        "## Negative indecies cound from the enf of the list q tuple: my_list[index] = my_list[len(my_list) - index]\n",
        "print('2) tens[-2]=', tens[-2], '\\n')\n",
        "\n",
        "## A range of a values can be extracted using: my_list[begin:end].\n",
        "## !!! Important: this returns the values between begin and end not including end !!!\n",
        "print('3) tens[0:4]=', tens[0:4], '. ! Note that 40 does not apper here\\n')\n",
        "\n",
        "## A range can also be extracted with a given step using:  my_list[begin:end:step].\n",
        "print('4) tens[1:-3:2]=', tens[1:-3:2], '\\n')\n",
        "\n",
        "## If one of the values in the begin:end or in begin:end:step is omitted then the defualt values are used.\n",
        "## Default: begin = 0\n",
        "## Default: end = -1\n",
        "## Default: step = 1\n",
        "\n",
        "## A range starting from 0:\n",
        "print('5) tens[:5]=', tens[:5], '\\n')\n",
        "\n",
        "## A range ending at -1 (last item - including)\n",
        "print('6) tens[2:]=', tens[2:], '\\n')\n",
        "\n",
        "## All items in the list with a step site of 2\n",
        "print('7) tens[::2]=', tens[::2], '\\n')\n",
        "\n",
        "## Negtive steps can be used as well. The values starting at 7 down to 2, not including 2:\n",
        "print('8) tens[7:2:-1]=', tens[7:2:-1], '\\n')"
      ],
      "execution_count": null,
      "outputs": [
        {
          "output_type": "stream",
          "text": [
            "1) tens[5]= 50 \n",
            "\n",
            "2) tens[-2]= 90 \n",
            "\n",
            "3) tens[0:4]= [0, 10, 20, 30] . ! Note that 40 does not apper here\n",
            "\n",
            "4) tens[1:-3:2]= [10, 30, 50, 70] \n",
            "\n",
            "5) tens[:5]= [0, 10, 20, 30, 40] \n",
            "\n",
            "6) tens[2:]= [20, 30, 40, 50, 60, 70, 80, 90, 100] \n",
            "\n",
            "7) tens[::2]= [0, 20, 40, 60, 80, 100] \n",
            "\n",
            "8) tens[7:2:-1]= [70, 60, 50, 40, 30] \n",
            "\n"
          ],
          "name": "stdout"
        }
      ]
    },
    {
      "cell_type": "markdown",
      "metadata": {
        "id": "xc2Toc1PWGDr"
      },
      "source": [
        "✍️ Use the \"sorted\" function and indexing to sort the letters in your name and to print the first 5 letters of the sorted name."
      ]
    },
    {
      "cell_type": "code",
      "metadata": {
        "id": "8lCNNHm-WGDr",
        "colab": {
          "base_uri": "https://localhost:8080/"
        },
        "outputId": "db59f045-f251-46a7-e9fd-37b7df53f4e1"
      },
      "source": [
        "## %%%%%%%%%%%%%%% Your code here - Begin %%%%%%%%%%%%%%%\n",
        "my_full_name = 'itamar'\n",
        "my_sorted_name = sorted(my_full_name)\n",
        "print(my_sorted_name)\n",
        "print(f'The first 5 letters in my sorted name are ', my_sorted_name[0:5])\n",
        "## %%%%%%%%%%%%%%% Your code here - End %%%%%%%%%%%%%%%%%"
      ],
      "execution_count": null,
      "outputs": [
        {
          "output_type": "stream",
          "text": [
            "['a', 'a', 'i', 'm', 'r', 't']\n",
            "The first 5 letters in my sorted name are  ['a', 'a', 'i', 'm', 'r']\n"
          ],
          "name": "stdout"
        }
      ]
    },
    {
      "cell_type": "markdown",
      "metadata": {
        "id": "ntKl_MvRWGDu"
      },
      "source": [
        "As stated above, lists can be updated:"
      ]
    },
    {
      "cell_type": "code",
      "metadata": {
        "id": "jNdQxs0eWGDv",
        "colab": {
          "base_uri": "https://localhost:8080/"
        },
        "outputId": "3c5a1cc6-d895-4441-cf8a-d865affd8d73"
      },
      "source": [
        "tens[2] = 'Twenty'\n",
        "print(tens)"
      ],
      "execution_count": null,
      "outputs": [
        {
          "output_type": "stream",
          "text": [
            "[0, 10, 'Twenty', 30, 40, 50, 60, 70, 80, 90, 100]\n"
          ],
          "name": "stdout"
        }
      ]
    },
    {
      "cell_type": "markdown",
      "metadata": {
        "id": "SwGEm2xZWGDx"
      },
      "source": [
        "New values can also be appended to the end of the list:"
      ]
    },
    {
      "cell_type": "code",
      "metadata": {
        "id": "IDCCNbsVWGDy",
        "colab": {
          "base_uri": "https://localhost:8080/"
        },
        "outputId": "a13ad161-1072-430f-9420-d79365edc76f"
      },
      "source": [
        "tens.append(110)\n",
        "print(tens)"
      ],
      "execution_count": null,
      "outputs": [
        {
          "output_type": "stream",
          "text": [
            "[0, 10, 'Twenty', 30, 40, 50, 60, 70, 80, 90, 100, 110]\n"
          ],
          "name": "stdout"
        }
      ]
    },
    {
      "cell_type": "markdown",
      "metadata": {
        "id": "jU1qXvbkWGD0"
      },
      "source": [
        "Lists and tuples can also be concatenated using the \"+\" operator:"
      ]
    },
    {
      "cell_type": "code",
      "metadata": {
        "id": "lQSuJ6q2WGD0",
        "colab": {
          "base_uri": "https://localhost:8080/"
        },
        "outputId": "8c293d25-2c45-4ea7-b784-4f9ba1947b69"
      },
      "source": [
        "print(\"('a', 'b', 'c') + ('e', 'f', 'g')=\",  ('a', 'b', 'c') + ('e', 'f', 'g'))"
      ],
      "execution_count": null,
      "outputs": [
        {
          "output_type": "stream",
          "text": [
            "('a', 'b', 'c') + ('e', 'f', 'g')= ('a', 'b', 'c', 'e', 'f', 'g')\n"
          ],
          "name": "stdout"
        }
      ]
    },
    {
      "cell_type": "markdown",
      "metadata": {
        "id": "MgxAxxbQWGD3"
      },
      "source": [
        "✍️ Complete the following missing indexing:"
      ]
    },
    {
      "cell_type": "code",
      "metadata": {
        "id": "5mK0PplWWGD3",
        "colab": {
          "base_uri": "https://localhost:8080/"
        },
        "outputId": "2e4d761a-4098-4f59-90ef-8a8d00d79134"
      },
      "source": [
        "marvel_super_heros = ['Iron Man', 'Captain America', 'Thor']  # This is a list\n",
        "dc_super_heros = ('Superman', 'Batman', 'Wonder Woman')  # This is a tuple\n",
        "\n",
        "## %%%%%%%%%%%%%%% Your code here - Begin %%%%%%%%%%%%%%%\n",
        "print('First super hero in the Marvel list: ', marvel_super_heros[0],'\\n')\n",
        "print('Last super hero in the DC list: ',dc_super_heros[-1],'\\n') \n",
        "\n",
        "\n",
        "## Set the second Marvel super hero to Spider Man:\n",
        "marvel_super_heros[1] = 'Spider Man'\n",
        "print('The marvel list with Spider Man as the second item:', marvel_super_heros)\n",
        "\n",
        "## Now add Hulk and Deadpool to the Marvel list\n",
        "## You can either use append or the \"+\" operator\n",
        "marvel_super_heros_added = ['Hulk', 'Deadpool']\n",
        "print('The marval list Hulk and Deadpool added at the end:', marvel_super_heros + marvel_super_heros_added)\n",
        "# %%%%%%%%%%%%%%% Your code here - End %%%%%%%%%%%%%%%%%\n"
      ],
      "execution_count": null,
      "outputs": [
        {
          "output_type": "stream",
          "text": [
            "First super hero in the Marvel list:  Iron Man \n",
            "\n",
            "Last super hero in the DC list:  Wonder Woman \n",
            "\n",
            "The marvel list with Spider Man as the second item: ['Iron Man', 'Spider Man', 'Thor']\n",
            "The marval list Hulk and Deadpool added at the end: ['Iron Man', 'Spider Man', 'Thor', 'Hulk', 'Deadpool']\n"
          ],
          "name": "stdout"
        }
      ]
    },
    {
      "cell_type": "markdown",
      "metadata": {
        "id": "OPNkMUGcWGD7"
      },
      "source": [
        "### Strings\n",
        "\n",
        "Strings in python can be defined using by either a single quote ' or double quote \". They are both equivalent and you can choose either one of them. Double quote can be used to define string which contain a single quote and vise versa. In our course we will mostly be using a single quote to define strings.\n",
        "\n",
        "Python offers a large variety of built-in functions for handling strings we will demonstrate just a few of them:\n",
        "\n",
        "(for a complete list check the [official documentation](https://docs.python.org/3.9/library/string.html))"
      ]
    },
    {
      "cell_type": "code",
      "metadata": {
        "id": "mihhg6wDWGD8",
        "colab": {
          "base_uri": "https://localhost:8080/"
        },
        "outputId": "43672683-e73d-4672-fd91-bd571884815a"
      },
      "source": [
        "## Strings can be concatinated using the \"+\" operator\n",
        "print('1) begining' + '+' + 'end', '\\n')\n",
        "\n",
        "## Special charecters begin with a \"\\\". We have alrady used the \\n special charecter to insters new lines\n",
        "## To insert the \"\\\" charecter to a string use \"\\\\\"\n",
        "print('2) The \\\\n special charecter insters a new line:\\nThis will be in a new line.\\n')\n",
        "## \\t - inserts a tab:\n",
        "print('3) The \\\\t special charecter insters a new tab:\\tI am tabbed, woo hoo!\\n')\n",
        "## \\' and \\\" can be used to inster ' or \":\n",
        "print('4) The \\\\\\' special charecter insters a \\'.\\n')\n",
        "\n",
        "## The str function transforms a object into a string\n",
        "converted_num = str(3.14)\n",
        "print('5) The type of the variable \"converted_num\" is:', type(converted_num), '\\n')\n",
        "\n",
        "## The string object has many method that can be used.\n",
        "## For example, the \"find\" method finds the first occurance of a given string in the original string:\n",
        "print('6) The string \"cd\" appears in the string \"abcdefg\" at postion: ', 'abcdefg'.find('cd'), '\\n')\n",
        "\n",
        "## The \"split\" method splits a string to a list of string according to a given delimiter:\n",
        "print(\"7) 'dog,cat,t-rex'.split(',')=\", 'dog,cat,t-rex'.split(','), '\\n')\n",
        "\n",
        "## Strings can be index in a way similar to lists and tuples\n",
        "print(\"8) 'abcdefg'[::2]=\", 'abcdefg'[::2], '\\n')\n",
        "\n",
        "## Python strings use Unicode encoding, which means that they can contain chercters in any language\n",
        "print('9) עברית קשה שפה\\n' )\n",
        "\n",
        "## and even emojis\n",
        "print('10)🦏 💕 🐴 => 🦄\\n')"
      ],
      "execution_count": null,
      "outputs": [
        {
          "output_type": "stream",
          "text": [
            "1) begining+end \n",
            "\n",
            "2) The \\n special charecter insters a new line:\n",
            "This will be in a new line.\n",
            "\n",
            "3) The \\t special charecter insters a new tab:\tI am tabbed, woo hoo!\n",
            "\n",
            "4) The \\' special charecter insters a '.\n",
            "\n",
            "5) The type of the variable \"converted_num\" is: <class 'str'> \n",
            "\n",
            "6) The string \"cd\" appears in the string \"abcdefg\" at postion:  2 \n",
            "\n",
            "7) 'dog,cat,t-rex'.split(',')= ['dog', 'cat', 't-rex'] \n",
            "\n",
            "8) 'abcdefg'[::2]= aceg \n",
            "\n",
            "9) עברית קשה שפה\n",
            "\n",
            "10)🦏 💕 🐴 => 🦄\n",
            "\n"
          ],
          "name": "stdout"
        }
      ]
    },
    {
      "cell_type": "markdown",
      "metadata": {
        "id": "TqiG_zAcWGEB"
      },
      "source": [
        "### Formating strings\n",
        "\n",
        "Python expressions can be incorporated directly into strings using f-strings. f-strings are regular string, except for the fact that curly brackets can be used to evaluate expressions inside a string.\n",
        "\n",
        "f-strings are define by adding an \"f\" before the quote mark:"
      ]
    },
    {
      "cell_type": "code",
      "metadata": {
        "id": "aFlNDYU2WGEC",
        "colab": {
          "base_uri": "https://localhost:8080/"
        },
        "outputId": "fb66206b-c562-4122-aec6-b2a7d3721885"
      },
      "source": [
        "print(f'1) the result of 3+5 is {3 + 5}\\n')\n",
        "\n",
        "## The epression inside the curly barckes can also contain variables:\n",
        "name = 'Bob'\n",
        "print(f'2) Hi {name}')"
      ],
      "execution_count": null,
      "outputs": [
        {
          "output_type": "stream",
          "text": [
            "1) the result of 3+5 is 8\n",
            "\n",
            "2) Hi Bob\n"
          ],
          "name": "stdout"
        }
      ]
    },
    {
      "cell_type": "markdown",
      "metadata": {
        "id": "BNjSMirVWGEF"
      },
      "source": [
        "f-strings can also be used to format the way numbers are printed by using the colons  \":\" :\n",
        "\n",
        "(see [the official documentation](https://docs.python.org/3.8/library/string.html#format-specification-mini-language) for a complete list of formating options)"
      ]
    },
    {
      "cell_type": "code",
      "metadata": {
        "id": "4eIKsHScWGEF",
        "colab": {
          "base_uri": "https://localhost:8080/"
        },
        "outputId": "5192b6eb-6da0-4159-991f-16a7052f16f1"
      },
      "source": [
        "pi = 3.14159265359\n",
        "## The number of digits after the decimal point can be define is the following way\n",
        "print(f'1) Pi with only 4 significant digits: {pi:.4}\\n')\n",
        "print(f'2) Pi with 10 significant digits: {pi:.10}\\n')\n",
        "print(f'3) Pi with zero padding in front so that it will contain 9 charecters: {pi:09.3}\\n')\n",
        "print(f'4) Pi using an exponant notation: {pi:.3e}\\n')"
      ],
      "execution_count": null,
      "outputs": [
        {
          "output_type": "stream",
          "text": [
            "1) Pi with only 4 significant digits: 3.142\n",
            "\n",
            "2) Pi with 10 significant digits: 3.141592654\n",
            "\n",
            "3) Pi with zero padding in front so that it will contain 9 charecters: 000003.14\n",
            "\n",
            "4) Pi using an exponant notation: 3.142e+00\n",
            "\n"
          ],
          "name": "stdout"
        }
      ]
    },
    {
      "cell_type": "markdown",
      "metadata": {
        "id": "DcyfiLw-WGEH"
      },
      "source": [
        "Note: f-strings where only introduced in version 3.6. There are also two \"older\" ways to use formated strings in Python, you can read more about them [here](https://realpython.com/python-f-strings/)."
      ]
    },
    {
      "cell_type": "markdown",
      "metadata": {
        "id": "xD_Zm3u3WGEI"
      },
      "source": [
        "### Dictionaries\n",
        "\n",
        "Dictionaries store pairs of key and values. The keys can used as indices to retrieve the stored values. Any type of object can be used as a key (and any object can be stored as a value). Dictionaries are defined using curly brackets:\n",
        "\n",
        "``` python\n",
        "my_dict = {'key1': 'value1', 'key2': 'value2'}\n",
        "```\n",
        "\n",
        "example:\n"
      ]
    },
    {
      "cell_type": "code",
      "metadata": {
        "id": "7kHJRADLWGEI",
        "colab": {
          "base_uri": "https://localhost:8080/"
        },
        "outputId": "f3f9dff6-fc04-45dc-ebf0-b5aff13ffa1b"
      },
      "source": [
        "game_of_throne_kingdom_rulers = {\n",
        "    'The North': 'Stark',\n",
        "    'The Rock': 'Lannister',\n",
        "    'Dorne': 'Martell',\n",
        "    'The Riverlands': 'Tullys',\n",
        "    'Iron Islands': 'Greyjoys',\n",
        "    'The Stormlands': 'Baratheons',\n",
        "    'The Vale': 'Arryn',\n",
        "    'The Reach': 'Tyrells',\n",
        "    'The Crownlands': 'Targaryens',\n",
        "}\n",
        "\n",
        "print(f\"The rulers of The North are: {game_of_throne_kingdom_rulers['The North']}\\n\")\n",
        "\n",
        "## the list of keys can be retrived using \".keys()\":\n",
        "print(f\"The list of kindoms is : {game_of_throne_kingdom_rulers.keys()}\\n\")\n",
        "\n",
        "## the list of values can be retrived using \".values()\":\n",
        "print(f\"The list of kindoms is : {game_of_throne_kingdom_rulers.values()}\\n\")\n",
        "\n",
        "## Updating a value\n",
        "game_of_throne_kingdom_rulers['The Reach'] = 'Bronn'\n",
        "print(f\"The kindom of The Reach has been given to: {game_of_throne_kingdom_rulers['The Reach']}\\n\")"
      ],
      "execution_count": null,
      "outputs": [
        {
          "output_type": "stream",
          "text": [
            "The rulers of The North are: Stark\n",
            "\n",
            "The list of kindoms is : dict_keys(['The North', 'The Rock', 'Dorne', 'The Riverlands', 'Iron Islands', 'The Stormlands', 'The Vale', 'The Reach', 'The Crownlands'])\n",
            "\n",
            "The list of kindoms is : dict_values(['Stark', 'Lannister', 'Martell', 'Tullys', 'Greyjoys', 'Baratheons', 'Arryn', 'Tyrells', 'Targaryens'])\n",
            "\n",
            "The kindom of The Reach has been given to: Bronn\n",
            "\n"
          ],
          "name": "stdout"
        }
      ]
    },
    {
      "cell_type": "markdown",
      "metadata": {
        "id": "BrP7CLLrWGEK"
      },
      "source": [
        "### Conditions\n",
        "\n",
        "Conditions in Python are written in the following way:\n",
        "``` python\n",
        "if some_condition:\n",
        "    do_1\n",
        "    do_2\n",
        "elif some_other_condition\n",
        "    do_3\n",
        "else:\n",
        "    do_4\n",
        "```\n",
        "\n",
        "The \"elif\" and the \"else\" sections are optional.\n",
        "\n",
        "**Note the indentations!!!**\n",
        "\n",
        "Note that the do statements are indented (shifted to the right by leading spaces) relative to the if statement. **In Python indentations are very important** and define where the inner section of the if begins and ends.\n",
        "\n",
        "#### Comparison operators\n",
        "\n",
        "| Operator | Description |\n",
        "| --- | --- |\n",
        "| a == b | a is equal to b |\n",
        "| a != b | a is not equality to b |\n",
        "| a > b | a is larger then b |\n",
        "| a >= b | a is larger equal to  b |\n",
        "| a < b | a smaller then b |\n",
        "| a <= b | a is smaller or equal to b |\n",
        "\n",
        "#### Binary operators\n",
        "\n",
        "| Description | Operator |\n",
        "| --- | --- |\n",
        "| not | not condition1 |\n",
        "| and | condition1 and consition2 |\n",
        "| or | condition1 or consition2 |\n"
      ]
    },
    {
      "cell_type": "code",
      "metadata": {
        "id": "d2qflMXKWGEL",
        "colab": {
          "base_uri": "https://localhost:8080/"
        },
        "outputId": "14f2fa5f-1783-457e-c5ea-29f15749371a"
      },
      "source": [
        "a = 9\n",
        "b = 6\n",
        "if a > b:\n",
        "    print(f'{a} is larger then {b}')\n",
        "elif a == b:\n",
        "    print(f'{a} is equal to {b}')\n",
        "else:\n",
        "    print(f'{a} is smaller then {b}')"
      ],
      "execution_count": null,
      "outputs": [
        {
          "output_type": "stream",
          "text": [
            "9 is larger then 6\n"
          ],
          "name": "stdout"
        }
      ]
    },
    {
      "cell_type": "markdown",
      "metadata": {
        "id": "FVzKzU6EWGES"
      },
      "source": [
        "### The \"in\" condition\n",
        "\n",
        "The \"in\" operator can be used to check is a value is a member of a sequence such as a list or a string. For example:\n",
        "\n",
        "\n"
      ]
    },
    {
      "cell_type": "code",
      "metadata": {
        "id": "pxyZ15GuWGET",
        "colab": {
          "base_uri": "https://localhost:8080/",
          "height": 33
        },
        "outputId": "78e0fc73-1799-4a8e-ccf2-e8e5ba2a851b"
      },
      "source": [
        "fruits = '🍎🍐🍊'  # This is a string\n",
        "vegtables = ['🥬', '🥕', '🥔']  # This is a list of strings\n",
        "fruits_that_impose_as_vegtables = ('🍅', '🥑', '🥒')  # This is a tuple of strings\n",
        "\n",
        "food = '🍅'\n",
        "if food in fruits:\n",
        "    print(f'{food} is a fruit.')\n",
        "elif food in vegtables:\n",
        "    print(f'{food} is a vetgtable.')\n",
        "elif food in fruits_that_impose_as_vegtables:\n",
        "    print(f'{food} is a fruit, that is offten mistaken as a vetgtable.')\n",
        "else:  \n",
        "    print(f'I have no idea what {food} is ¯\\_(ツ)_/¯')"
      ],
      "execution_count": null,
      "outputs": [
        {
          "output_type": "stream",
          "text": [
            "🍅 is a fruit, that is offten mistaken as a vetgtable.\n"
          ],
          "name": "stdout"
        }
      ]
    },
    {
      "cell_type": "markdown",
      "metadata": {
        "id": "hIiDsrjWWGEV"
      },
      "source": [
        "✍️ Complete the condition bellow to check if \"food\" is in any of the above lists. (use \"or\")"
      ]
    },
    {
      "cell_type": "code",
      "metadata": {
        "id": "dSvoFI-wWGEV",
        "colab": {
          "base_uri": "https://localhost:8080/",
          "height": 33
        },
        "outputId": "932c39c5-1a3b-4fbb-8ab9-fef34258acbe"
      },
      "source": [
        "food = '🍕'\n",
        "## %%%%%%%%%%%%%%% Your code here - Begin %%%%%%%%%%%%%%%\n",
        "if (food in fruits) or (food in vegtables) :\n",
        "    print(f'{food} is a fruit or a vegtable.')\n",
        "else:\n",
        "    print(f'{food} is neither a fruit nor a vegtable. Maybe you shouldn\\'t eat it')\n",
        "## %%%%%%%%%%%%%%% Your code here - End %%%%%%%%%%%%%%%%%"
      ],
      "execution_count": null,
      "outputs": [
        {
          "output_type": "stream",
          "text": [
            "🍕 is neither a fruit nor a vegtable. Maybe you shouldn't eat it\n"
          ],
          "name": "stdout"
        }
      ]
    },
    {
      "cell_type": "markdown",
      "metadata": {
        "id": "KXeemp-eWGEX"
      },
      "source": [
        "### While Loop\n",
        "\n",
        "While loops are written in Python in the following way:\n",
        "\n",
        "``` python\n",
        "while condition:\n",
        "    do_1\n",
        "    do_2\n",
        "```\n",
        "\n",
        "Here as well, the indentation defines are the loop begin and end."
      ]
    },
    {
      "cell_type": "code",
      "metadata": {
        "id": "SrxpW7WTWGEY"
      },
      "source": [
        "## This code prints the Fibonacci serise up to the first number larger then 100\n",
        "last = 1\n",
        "current = 1\n",
        "\n",
        "print(last)\n",
        "print(current)\n",
        "while current < 100:\n",
        "    next = last + current\n",
        "    last = current\n",
        "    current = next\n",
        "    print(current)"
      ],
      "execution_count": null,
      "outputs": []
    },
    {
      "cell_type": "markdown",
      "metadata": {
        "id": "itMj9vHrWGEa"
      },
      "source": [
        "### For Loop\n",
        "\n",
        "In Python, for loops run over a sequences (or more precisely, over an [iterator](https://jakevdp.github.io/WhirlwindTourOfPython/10-iterators.html)). For loops are written in the following way:\n",
        "\n",
        "``` python\n",
        "for value in sequence:\n",
        "    do_something_with_value\n",
        "```\n",
        "\n",
        "Example:"
      ]
    },
    {
      "cell_type": "code",
      "metadata": {
        "id": "eI1IsbH_WGEc",
        "colab": {
          "base_uri": "https://localhost:8080/",
          "height": 67
        },
        "outputId": "59c85132-c05e-4db9-f51d-8ffa27a74770"
      },
      "source": [
        "for food in fruits:\n",
        "    print(f'I like {food}')"
      ],
      "execution_count": null,
      "outputs": [
        {
          "output_type": "stream",
          "text": [
            "I like 🍎\n",
            "I like 🍐\n",
            "I like 🍊\n"
          ],
          "name": "stdout"
        }
      ]
    },
    {
      "cell_type": "markdown",
      "metadata": {
        "id": "HJhbPNMQWGEh"
      },
      "source": [
        "In order to run over a range of numbers the \"range\" function can be used in one of the following manners:\n",
        "\n",
        "``` python\n",
        "range(end)\n",
        "range(begin, end)\n",
        "range(begin, end, step)\n",
        "```"
      ]
    },
    {
      "cell_type": "code",
      "metadata": {
        "id": "g45JzdBoWGEn",
        "colab": {
          "base_uri": "https://localhost:8080/",
          "height": 268
        },
        "outputId": "b5c6ce6f-0853-4c19-ceb3-2662dbbdfd2b"
      },
      "source": [
        "print('1) running over range(5):')\n",
        "for num in range(5):\n",
        "    print('\\t', num)\n",
        "\n",
        "print('2) running over range(3, 7):')\n",
        "for num in range(3, 7):\n",
        "    print('\\t', num)\n",
        "\n",
        "print('3) running over range(1, 6, 2):')\n",
        "for num in range(1, 6, 2):\n",
        "    print('\\t', num)"
      ],
      "execution_count": null,
      "outputs": [
        {
          "output_type": "stream",
          "text": [
            "1) running over range(5):\n",
            "\t 0\n",
            "\t 1\n",
            "\t 2\n",
            "\t 3\n",
            "\t 4\n",
            "2) running over range(3, 7):\n",
            "\t 3\n",
            "\t 4\n",
            "\t 5\n",
            "\t 6\n",
            "3) running over range(1, 6, 2):\n",
            "\t 1\n",
            "\t 3\n",
            "\t 5\n"
          ],
          "name": "stdout"
        }
      ]
    },
    {
      "cell_type": "markdown",
      "metadata": {
        "id": "p4ngu1bCWGEr"
      },
      "source": [
        "✍️ Complete the code bellow to print the letters in the 3rd, 5th and 6th position in your full name."
      ]
    },
    {
      "cell_type": "code",
      "metadata": {
        "id": "QUXJG33rWGEr",
        "colab": {
          "base_uri": "https://localhost:8080/",
          "height": 128
        },
        "outputId": "6075c0b3-db2f-44ab-d85a-ca960a32cd31"
      },
      "source": [
        "## %%%%%%%%%%%%%%% Your code here - Begin %%%%%%%%%%%%%%%\n",
        "letters_indices_to_print = (3, 5, 6)\n",
        "for index in letters_indices_to_print\n",
        "    print(f'The leter in the {index} position is \"{my_full_name[index]')\n",
        "## %%%%%%%%%%%%%%% Your code here - End %%%%%%%%%%%%%%%%%"
      ],
      "execution_count": null,
      "outputs": [
        {
          "output_type": "error",
          "ename": "SyntaxError",
          "evalue": "ignored",
          "traceback": [
            "\u001b[0;36m  File \u001b[0;32m\"<ipython-input-7-131ebb5e88a5>\"\u001b[0;36m, line \u001b[0;32m3\u001b[0m\n\u001b[0;31m    for index in letters_indices_to_print\u001b[0m\n\u001b[0m                                         ^\u001b[0m\n\u001b[0;31mSyntaxError\u001b[0m\u001b[0;31m:\u001b[0m invalid syntax\n"
          ]
        }
      ]
    },
    {
      "cell_type": "markdown",
      "metadata": {
        "id": "Zj-1NiWYWGEu"
      },
      "source": [
        "### Functions\n",
        "\n",
        "Functions in python are defined using the \"def\" command:\n",
        "\n",
        "``` python\n",
        "def my_function(argument1, argument2):\n",
        "    do_something_with_the_arguments\n",
        "    return result\n",
        "```\n",
        "\n",
        "The return statement is optional and can be omitted. In such cases the function will return the \"None\" object.\n",
        "\n",
        "For example:"
      ]
    },
    {
      "cell_type": "code",
      "metadata": {
        "id": "vj9CKreEWGEv",
        "colab": {
          "base_uri": "https://localhost:8080/",
          "height": 50
        },
        "outputId": "0e495146-4fd4-44cc-adb8-bc15d9b838db"
      },
      "source": [
        "def power(x, y):\n",
        "    print('calculating x to the power of y')\n",
        "    return x ** y\n",
        "\n",
        "print(f'2 to the power of 8 is: {power(2, 8)}')"
      ],
      "execution_count": null,
      "outputs": [
        {
          "output_type": "stream",
          "text": [
            "calculating x to the power of y\n",
            "2 to the power of 8 is: 256\n"
          ],
          "name": "stdout"
        }
      ]
    },
    {
      "cell_type": "markdown",
      "metadata": {
        "id": "7l3PPULbWGEz"
      },
      "source": [
        "A function can have multiple return result separated by a comma\n",
        "\n",
        "``` python\n",
        "def my_function(argument1, argument2):\n",
        "    do_something_with_the_arguments\n",
        "    return result1, result2\n",
        "```\n",
        "\n",
        "This function in fact returns the Tuple (result1, results2)\n",
        "\n",
        "For example, the function bellow returns the two roots of a second order polynomial:\n",
        "\n",
        "$$\n",
        "x_{1,2}=\\frac{-b\\pm\\sqrt{b^2-4ac}}{2a}\n",
        "$$\n"
      ]
    },
    {
      "cell_type": "code",
      "metadata": {
        "id": "62z9TqdpWGEz",
        "colab": {
          "base_uri": "https://localhost:8080/",
          "height": 50
        },
        "outputId": "5ef939a5-cd24-4cf2-92f5-8622db504129"
      },
      "source": [
        "def find_roots(a, b, c):\n",
        "    x1 = (-b + (b ** 2 - 4 * a * c) ** 0.5) / 2 / a\n",
        "    x2 = (-b - (b ** 2 - 4 * a * c) ** 0.5) / 2 / a\n",
        "    return x1, x2\n",
        "\n",
        "## Option A - save each root in it's own variable\n",
        "root1, root2 = find_roots(2, -14, 24)\n",
        "print(f'The first root is {root1} and the second root is {root2}')\n",
        "\n",
        "## Option B - save the two roots in a single Tuple\n",
        "roots = find_roots(2, -14, 24)\n",
        "print(f'The first root is {roots[0]} and the second root is {roots[1]}')\n",
        "    "
      ],
      "execution_count": null,
      "outputs": [
        {
          "output_type": "stream",
          "text": [
            "The first root is 4.0 and the second root is 3.0\n",
            "The first root is 4.0 and the second root is 3.0\n"
          ],
          "name": "stdout"
        }
      ]
    },
    {
      "cell_type": "markdown",
      "metadata": {
        "id": "aglHKOcwWGE3"
      },
      "source": [
        "The arguments of the functions can be passed to the function either by position or by name. All of the examples bellow are equivalent"
      ]
    },
    {
      "cell_type": "code",
      "metadata": {
        "id": "_d8VQqCfWGE4"
      },
      "source": [
        "roots = find_roots(2, -14, 24)\n",
        "roots = find_roots(a=2, b=-14, c=24)\n",
        "roots = find_roots(c=24, b=-14, a=2)\n",
        "roots = find_roots(2, c=24, b=-14)"
      ],
      "execution_count": null,
      "outputs": []
    },
    {
      "cell_type": "markdown",
      "metadata": {
        "id": "UrmfdV8YWGE_"
      },
      "source": [
        "The arguments can also has a default value"
      ]
    },
    {
      "cell_type": "code",
      "metadata": {
        "id": "XTHMfhJAWGE_",
        "colab": {
          "base_uri": "https://localhost:8080/",
          "height": 67
        },
        "outputId": "0f95cea6-97ae-4eae-d4d0-5a70c50aa272"
      },
      "source": [
        "def greeter(name, greeting='Hello'):\n",
        "    print(f'{greeting} {name}, how are you today?')\n",
        "\n",
        "greeter('Winston Smith')\n",
        "greeter('Winston Smith', 'Howdy')\n",
        "greeter('Winston Smith', greeting='Good morning')"
      ],
      "execution_count": null,
      "outputs": [
        {
          "output_type": "stream",
          "text": [
            "Hello Winston Smith, how are you today?\n",
            "Howdy Winston Smith, how are you today?\n",
            "Good morning Winston Smith, how are you today?\n"
          ],
          "name": "stdout"
        }
      ]
    },
    {
      "cell_type": "markdown",
      "metadata": {
        "id": "BXUcbCA_WGFF"
      },
      "source": [
        "#### Defining functions in-line\n",
        "\n",
        "Python also offers a way to define function in-line using the \"lambda\" command:\n",
        "\n",
        "``` python\n",
        "my_function = lambda arg1, arg2: do_something_with_args\n",
        "```\n",
        "\n",
        "(It is sometimes consider to be bad practice to use this method, but in many cases it makes the code cleaner)\n"
      ]
    },
    {
      "cell_type": "code",
      "metadata": {
        "id": "_S6lsDrUWGFF"
      },
      "source": [
        "power = lambda x, y: x ** y\n",
        "\n",
        "print(f'2 to the power of 8 is: {power(2, 8)}')"
      ],
      "execution_count": null,
      "outputs": []
    },
    {
      "cell_type": "markdown",
      "metadata": {
        "id": "UF7q7CaVWGFM"
      },
      "source": [
        "### Classes\n",
        "\n",
        "In order to deeply understand what are classes and how to use them you need to know a bit about object-oriented programing. In order to keep things simple, we will not dive into that subject and instead try to give a shallow explanation, which will be enough for you in order to start using them.\n",
        "\n",
        "When we define a new class, we in fact define a new type of object. Each class can contain internal variables and methods (functions). For example, lets say that we want to define a class which represents a pet with its name, current state and the some methods, which we can use to interact with it.\n",
        "\n",
        "The methods and inner variable of the object can be accessed using dot \".\", for example:\n",
        "\n",
        "``` ptyhon\n",
        "my_pet.name\n",
        "my_pet.feed()\n",
        "```\n",
        "\n",
        "Lets us first look at an example, and then explain it:\n"
      ]
    },
    {
      "cell_type": "code",
      "metadata": {
        "id": "0gFAcMXfWGFN",
        "colab": {
          "base_uri": "https://localhost:8080/",
          "height": 268
        },
        "outputId": "e4ac273f-5d3c-4ee1-a32c-d2d37d30db7b"
      },
      "source": [
        "## Creating the class\n",
        "class Pet:\n",
        "    ## Defining the methods of the class:\n",
        "\n",
        "    def __init__(self, name, pet_type='dog'):\n",
        "        ## 1. The __init__ method is a special method which is called when the class is created.\n",
        "        ## 2. The self argument represent the object it self so we can interact with it.\n",
        "\n",
        "        ## Store the arguments to inner variables of the currect object (self).\n",
        "        self.name = name  # Save the argument name to the inner variable name \n",
        "        self.pet_type = pet_type\n",
        "\n",
        "        ## Set initial values for some other inner variables\n",
        "        self.hungry = True  # Set the initial value of the inner variable hungry.\n",
        "        self.needs_to_poop = False\n",
        "        self.tired = False\n",
        "    \n",
        "    def print_state(self, greeting='Hi'):\n",
        "        ## Check the vaules of the inner variables to define the pet's state:\n",
        "        if self.hungry:\n",
        "            state = 'I need to eat'\n",
        "        elif self.needs_to_poop:\n",
        "            state = 'I need to poop'\n",
        "        elif self.tired:\n",
        "            state = 'I need to sleep'\n",
        "        else:\n",
        "            state = 'I am just fine.'\n",
        "        print(f'{greeting} I am {self.name} the {self.pet_type}, and {state}\\n')\n",
        "    \n",
        "    def feed(self):\n",
        "        ## Update initial variables\n",
        "        self.hungry = False\n",
        "        self.needs_to_poop = True\n",
        "\n",
        "    def take_a_walk(self):\n",
        "        self.needs_to_poop = False\n",
        "        self.tired = True\n",
        "\n",
        "    def take_a_nap(self):\n",
        "        self.tired = False\n",
        "        self.hungry = True\n",
        "\n",
        "my_pet = Pet('Snoopy')\n",
        "\n",
        "print(f'The type of my_pet is: {type(my_pet)}\\n')\n",
        "print(f'The name of my_pet is: {my_pet.name}\\n')\n",
        "\n",
        "my_pet.print_state()\n",
        "\n",
        "print(f'Feeding {my_pet.name}')\n",
        "my_pet.feed()\n",
        "my_pet.print_state()\n",
        "\n",
        "print(f'Taking {my_pet.name} for a walk')\n",
        "my_pet.take_a_walk()\n",
        "my_pet.print_state()\n",
        "\n",
        "print(f'{my_pet.name} is taking a nap')\n",
        "my_pet.take_a_nap()\n",
        "my_pet.print_state()\n",
        "\n"
      ],
      "execution_count": null,
      "outputs": [
        {
          "output_type": "stream",
          "text": [
            "The type of my_pet is: <class '__main__.Pet'>\n",
            "\n",
            "The name of my_pet is: Snoopy\n",
            "\n",
            "Hi I am Snoopy the dog, and I need to eat\n",
            "\n",
            "Feeding Snoopy\n",
            "Hi I am Snoopy the dog, and I need to poop\n",
            "\n",
            "Taking Snoopy for a walk\n",
            "Hi I am Snoopy the dog, and I need to sleep\n",
            "\n",
            "Snoopy is taking a nap\n",
            "Hi I am Snoopy the dog, and I need to eat\n",
            "\n"
          ],
          "name": "stdout"
        }
      ]
    },
    {
      "cell_type": "markdown",
      "metadata": {
        "id": "H3hoHHyoWGFQ"
      },
      "source": [
        "In the above example we have defined a class using the \"class\" command:\n",
        "\n",
        "``` python\n",
        "class my_class:\n",
        "    def method1(self, arg1, arg2):\n",
        "        do_something\n",
        "        return result\n",
        "\n",
        "    def method2(self, arg3):\n",
        "        do_something_else\n",
        "```\n",
        "\n",
        "#### The \"self\" argument\n",
        "\n",
        "Note that all the classes methods receive \"self\" as their first argument. This variable will hold the object itself so we can interact with it inside the methods.\n",
        "\n",
        "#### The \"\\_\\_init\\_\\_\" function\n",
        "\n",
        "Python allows us to define a few special method, which are called in specific cases. One important such method is  \\_\\_init\\_\\_. This method is called each time a we create a new object. The arguments of the \\_\\_init\\_\\_ method are argument which are used when creating a new object.\n",
        "\n",
        "In the above example, the \\_\\_init\\_\\_ function receives the argument 'Snoopy', which has been used in the line constructing the object:\n",
        "\n",
        "``` python\n",
        "my_pet = Pet('Snoopy')\n",
        "```"
      ]
    },
    {
      "cell_type": "markdown",
      "metadata": {
        "id": "7yeK3T44WGFQ"
      },
      "source": [
        "## Packages\n",
        "\n",
        "What really gives Python it's power is the larger variety of packages which contain additional objects (variables, functions, classes, etc.). These packages can be easily imported and used as part of our code.\n",
        "\n",
        "In general each package needs to be installed separately using the \"pip install\" command. In practice, the packages which we will need in our course are already installed on the Colab servers.\n",
        "\n",
        "In this exercise we will show how to import and use a popular package called [NumPy](https://numpy.org/) which offers a larger set of tools for doing numerical work. This package is highly influenced by Matlab and many of the functions in the package have a similar signature (name, arguments return values) to the equivalent functions in Matlab.\n",
        "\n",
        "In addition to NumPy, in this course we will also be using the following packages:\n",
        "\n",
        "- [Matplotlib](matplotlib) - A ploting library with tries to mimic Matlab's plotting commands.\n",
        "- [Pandas](https://pandas.pydata.org/) - A package for working with datasets.\n",
        "- [scikit-learn](https://scikit-learn.org/) - A package offers a huge set of machine learning tools.\n",
        "- [PyTorch](https://pytorch.org/) - A package for working with neural networks\n",
        "\n",
        "\n",
        "Importing packages in Python is done using the \"import\" command:\n",
        "\n",
        "``` python\n",
        "import my_package\n",
        "```\n",
        "\n",
        "This will search of the \"my_package\" package and import it as a new object named \"my_package\". We can also rename the package when importing it using:\n",
        "\n",
        "``` python\n",
        "import my_package as alternative_name\n",
        "```\n",
        "\n",
        "For example it is common to import the NumPy package using the shorter name \"np\":\n",
        "\n",
        "``` python\n",
        "import numpy as np\n",
        "```\n",
        "\n",
        "(there is also a way to import only a specific object from a package, but we will not cover that here)."
      ]
    },
    {
      "cell_type": "markdown",
      "metadata": {
        "id": "L_0xSw0LWGFS"
      },
      "source": [
        "### NumPy\n",
        "\n",
        "We shall start by importing NumPy"
      ]
    },
    {
      "cell_type": "code",
      "metadata": {
        "id": "-gUT0oT9WGFT"
      },
      "source": [
        "import numpy as np"
      ],
      "execution_count": null,
      "outputs": []
    },
    {
      "cell_type": "markdown",
      "metadata": {
        "id": "u1qa9rJLWGFU"
      },
      "source": [
        "\n",
        "The most basic object in NumPy is the \"ndarray\" (N dimensional array). These objects highly resembles Matlab's basic variables. The \"array\" function converts a sequence to an ndarray:"
      ]
    },
    {
      "cell_type": "code",
      "metadata": {
        "id": "kBYFDsL9WGFU",
        "colab": {
          "base_uri": "https://localhost:8080/",
          "height": 50
        },
        "outputId": "b3dd8025-8fd9-4971-a1c2-91952a875e14"
      },
      "source": [
        "my_array = np.array([2, 4, 1, 7])\n",
        "print(f'The type of my_array is {type(my_array)}')\n",
        "print(my_array)"
      ],
      "execution_count": null,
      "outputs": [
        {
          "output_type": "stream",
          "text": [
            "The type of my_array is <class 'numpy.ndarray'>\n",
            "[2 4 1 7]\n"
          ],
          "name": "stdout"
        }
      ]
    },
    {
      "cell_type": "markdown",
      "metadata": {
        "id": "2jITzI7UWGFX"
      },
      "source": [
        "It also converts a list of list into a 2D array:"
      ]
    },
    {
      "cell_type": "code",
      "metadata": {
        "id": "bG9hUgypWGFX",
        "colab": {
          "base_uri": "https://localhost:8080/",
          "height": 67
        },
        "outputId": "edf09ddf-b13f-45ce-8332-8c96c9caaddf"
      },
      "source": [
        "my_2d_array = np.array([[2, 4, 1, 7], [6, 3, 2, 5]])\n",
        "print(f'The type of my_array is {type(my_array)}')\n",
        "print(my_2d_array)"
      ],
      "execution_count": null,
      "outputs": [
        {
          "output_type": "stream",
          "text": [
            "The type of my_array is <class 'numpy.ndarray'>\n",
            "[[2 4 1 7]\n",
            " [6 3 2 5]]\n"
          ],
          "name": "stdout"
        }
      ]
    },
    {
      "cell_type": "markdown",
      "metadata": {
        "id": "1ZqPbMZVWGFa"
      },
      "source": [
        "The function \"random.randint\" generates an array of random integers (from a given range):\n",
        "\n",
        "``` python\n",
        "np.random.randint(low, high, size_as_a_tuple)\n",
        "```"
      ]
    },
    {
      "cell_type": "code",
      "metadata": {
        "id": "KGV_db8XWGFc",
        "colab": {
          "base_uri": "https://localhost:8080/",
          "height": 67
        },
        "outputId": "0a82f55a-801d-4ca8-f410-57fea862ee69"
      },
      "source": [
        "print(np.random.randint(0, 10, (3, 4)))"
      ],
      "execution_count": null,
      "outputs": [
        {
          "output_type": "stream",
          "text": [
            "[[3 9 2 6]\n",
            " [6 5 5 6]\n",
            " [6 1 2 9]]\n"
          ],
          "name": "stdout"
        }
      ]
    },
    {
      "cell_type": "markdown",
      "metadata": {
        "id": "Zms_dS2VWGFe"
      },
      "source": [
        "**By default, when using mathematical operations, such as addition and multiplications, they are performed element wise (on each element individually). (**Note** that this differs form matlab where the default is to treat every thing as a matrix)**\n"
      ]
    },
    {
      "cell_type": "code",
      "metadata": {
        "id": "ClCgrn9_WGFf",
        "colab": {
          "base_uri": "https://localhost:8080/",
          "height": 268
        },
        "outputId": "2acb4e4e-20e9-403a-f3c9-7aa9ea6af26d"
      },
      "source": [
        "matrix1 = np.random.randint(0, 10, (3, 3))\n",
        "print(f'matrix1:\\n{matrix1}\\n')\n",
        "matrix2 = np.random.randint(0, 10, (3, 3))\n",
        "print(f'matrix2:\\n{matrix2}\\n')\n",
        "\n",
        "print(f'The product of the two matrices is:\\n{matrix1 * matrix2}\\n')\n"
      ],
      "execution_count": null,
      "outputs": [
        {
          "output_type": "stream",
          "text": [
            "matrix1:\n",
            "[[9 8 5]\n",
            " [1 7 2]\n",
            " [8 6 8]]\n",
            "\n",
            "matrix2:\n",
            "[[5 3 6]\n",
            " [1 9 0]\n",
            " [8 9 4]]\n",
            "\n",
            "The product of the two matrices is:\n",
            "[[45 24 30]\n",
            " [ 1 63  0]\n",
            " [64 54 32]]\n",
            "\n"
          ],
          "name": "stdout"
        }
      ]
    },
    {
      "cell_type": "markdown",
      "metadata": {
        "id": "L98jk0MbWGFi"
      },
      "source": [
        "Matrix multiplication can be performed using the \"@\" operator:"
      ]
    },
    {
      "cell_type": "code",
      "metadata": {
        "id": "JRfoUuq2WGFi",
        "colab": {
          "base_uri": "https://localhost:8080/",
          "height": 284
        },
        "outputId": "15191d90-ca72-4451-e0ef-f3c4df0d2547"
      },
      "source": [
        "matrix = np.random.randint(0, 10, (3, 4))\n",
        "print(f'matrix:\\n{matrix}\\n')\n",
        "column_vec = np.random.randint(0, 10, (4, 1))\n",
        "print(f'column_vec:\\n{column_vec}\\n')\n",
        "\n",
        "print(f'The matrix multiplication of the two matrices is:\\n{matrix @ column_vec}\\n')"
      ],
      "execution_count": null,
      "outputs": [
        {
          "output_type": "stream",
          "text": [
            "matrix:\n",
            "[[1 0 6 0]\n",
            " [7 9 7 2]\n",
            " [1 8 4 0]]\n",
            "\n",
            "column_vec:\n",
            "[[9]\n",
            " [9]\n",
            " [7]\n",
            " [3]]\n",
            "\n",
            "The matrix multiplication of the two matrices is:\n",
            "[[ 51]\n",
            " [199]\n",
            " [109]]\n",
            "\n"
          ],
          "name": "stdout"
        }
      ]
    },
    {
      "cell_type": "markdown",
      "metadata": {
        "id": "pleNjlvgWGFl"
      },
      "source": [
        "✍️ Edit the code below so that it will print the multiplication table (לוח הכפל). \n",
        "The transpose of a 2D array *x* can be created by *x.T*.\n"
      ]
    },
    {
      "cell_type": "code",
      "metadata": {
        "id": "kREWXxIMWGFl",
        "colab": {
          "base_uri": "https://localhost:8080/",
          "height": 201
        },
        "outputId": "6bcf6046-5cf0-434c-d819-82cb7b4beead"
      },
      "source": [
        "a = np.array([[0, 1, 2, 3, 4, 5, 6, 7, 8, 9, 10]])\n",
        "\n",
        "## %%%%%%%%%%%%%%% Your code here - Begin %%%%%%%%%%%%%%%\n",
        "## Fill in the following line so that multiplication_table will store the 11 x 11 multiplication table (of the numbers between 0 and 10).\n",
        "multiplication_table = a * a.T\n",
        "## %%%%%%%%%%%%%%% Your code here - End %%%%%%%%%%%%%%%%%\n",
        "\n",
        "print(multiplication_table)"
      ],
      "execution_count": null,
      "outputs": [
        {
          "output_type": "stream",
          "text": [
            "[[  0   0   0   0   0   0   0   0   0   0   0]\n",
            " [  0   1   2   3   4   5   6   7   8   9  10]\n",
            " [  0   2   4   6   8  10  12  14  16  18  20]\n",
            " [  0   3   6   9  12  15  18  21  24  27  30]\n",
            " [  0   4   8  12  16  20  24  28  32  36  40]\n",
            " [  0   5  10  15  20  25  30  35  40  45  50]\n",
            " [  0   6  12  18  24  30  36  42  48  54  60]\n",
            " [  0   7  14  21  28  35  42  49  56  63  70]\n",
            " [  0   8  16  24  32  40  48  56  64  72  80]\n",
            " [  0   9  18  27  36  45  54  63  72  81  90]\n",
            " [  0  10  20  30  40  50  60  70  80  90 100]]\n"
          ],
          "name": "stdout"
        }
      ]
    },
    {
      "cell_type": "markdown",
      "metadata": {
        "id": "exUaNB61WGFp"
      },
      "source": [
        "## Other on-line resources\n",
        "\n",
        "If you are looking for a quick rough overview take a look at:\n",
        "- [A Whirlwind Tour of Python](https://jakevdp.github.io/WhirlwindTourOfPython/): A short overview of the language which is oriented towards data science applications. Another resource from the same author is the [Python data science handbook](https://jakevdp.github.io/PythonDataScienceHandbook/)\n",
        "\n",
        "If you are looking for a more thorough on-line course try one of these:\n",
        "- [Python @ Tutorials Point](https://www.tutorialspoint.com/python/): One of the many free on-line Python courses.\n",
        "- [Python for data science](https://www.datacamp.com/courses/intro-to-python-for-data-science): Another on-line Python course. Free but requires registration.\n",
        "\n",
        "If you simply want to get started and have some Matlab experience, you can make use of these two web pages:\n",
        "- [NumPy for Matlab users 1](https://docs.scipy.org/doc/numpy/user/numpy-for-matlab-users.html): A good place to start with to get a grip of NumPy when coming from matlab.\n",
        "- [NumPy for Matlab users 2](http://mathesaurus.sourceforge.net/matlab-numpy.html): Another web page similar to the one above with  a slightly different set of commands.\n",
        "\n",
        "Once you feel comfortable with the basic Python syntax you can take a look at these short three guides to improve your NumPy, Pandas and Colab  capabilities:\n",
        "- [NumPy's quick start tutorial](https://www.numpy.org/devdocs/user/quickstart.html): A quick start tutorial on NumPy from NumPy's official website.\n",
        "- [10 Minutes to pandas](https://pandas.pydata.org/pandas-docs/stable/getting_started/10min.html): A quick start tutorial on Pandas from Pandas' official website.\n",
        "- [Welcome to Google Colabratory](https://colab.research.google.com/notebooks/welcome.ipynb): The official introduction to Google Colabratory."
      ]
    },
    {
      "cell_type": "code",
      "metadata": {
        "id": "QOUkKq5oWGFp"
      },
      "source": [
        ""
      ],
      "execution_count": null,
      "outputs": []
    }
  ]
}